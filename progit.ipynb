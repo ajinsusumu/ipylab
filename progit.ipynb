{
 "cells": [
  {
   "cell_type": "markdown",
   "metadata": {},
   "source": [
    "# Git Internals memo\n",
    "## a personal memo for studying GIT PRO\n",
    "#### https://git-scm.com/book/en/v2/Git-Internals-Git-Objects"
   ]
  },
  {
   "cell_type": "code",
   "execution_count": 1,
   "metadata": {
    "collapsed": false
   },
   "outputs": [
    {
     "data": {
      "text/plain": [
       "'/private/var/folders/nr/0t8pv_9x62d796lz8dhth24m0000gn/T/tmpf8ct5ykh'"
      ]
     },
     "execution_count": 1,
     "metadata": {},
     "output_type": "execute_result"
    }
   ],
   "source": [
    "import os, tempfile\n",
    "os.chdir(tempfile.mkdtemp())\n",
    "os.getcwd()"
   ]
  },
  {
   "cell_type": "code",
   "execution_count": 2,
   "metadata": {
    "collapsed": false
   },
   "outputs": [
    {
     "name": "stdout",
     "output_type": "stream",
     "text": [
      "Initialized empty Git repository in /private/var/folders/nr/0t8pv_9x62d796lz8dhth24m0000gn/T/tmpf8ct5ykh/test/.git/\r\n"
     ]
    },
    {
     "data": {
      "text/plain": [
       "'/private/var/folders/nr/0t8pv_9x62d796lz8dhth24m0000gn/T/tmpf8ct5ykh/test'"
      ]
     },
     "execution_count": 2,
     "metadata": {},
     "output_type": "execute_result"
    }
   ],
   "source": [
    "!git init test\n",
    "os.chdir('test')\n",
    "os.getcwd()"
   ]
  },
  {
   "cell_type": "code",
   "execution_count": 3,
   "metadata": {
    "collapsed": false
   },
   "outputs": [
    {
     "name": "stdout",
     "output_type": "stream",
     "text": [
      ".git/objects\r\n",
      ".git/objects/info\r\n",
      ".git/objects/pack\r\n"
     ]
    }
   ],
   "source": [
    "!find .git/objects"
   ]
  },
  {
   "cell_type": "code",
   "execution_count": 4,
   "metadata": {
    "collapsed": false
   },
   "outputs": [
    {
     "data": {
      "text/plain": [
       "['d670460b4b4aece5915caf5c68d12f560a9fe3e4']"
      ]
     },
     "execution_count": 4,
     "metadata": {},
     "output_type": "execute_result"
    }
   ],
   "source": [
    "hashobj = !echo 'test content' | git hash-object -w --stdin\n",
    "hashobj"
   ]
  },
  {
   "cell_type": "code",
   "execution_count": 5,
   "metadata": {
    "collapsed": false
   },
   "outputs": [
    {
     "name": "stdout",
     "output_type": "stream",
     "text": [
      ".git/objects/d6/70460b4b4aece5915caf5c68d12f560a9fe3e4\r\n"
     ]
    }
   ],
   "source": [
    "!find .git/objects -type f"
   ]
  },
  {
   "cell_type": "code",
   "execution_count": 6,
   "metadata": {
    "collapsed": false
   },
   "outputs": [
    {
     "name": "stdout",
     "output_type": "stream",
     "text": [
      "test content\r\n"
     ]
    }
   ],
   "source": [
    "!git cat-file -p {hashobj[0]}"
   ]
  },
  {
   "cell_type": "code",
   "execution_count": 7,
   "metadata": {
    "collapsed": false
   },
   "outputs": [],
   "source": [
    "!echo 'version 1' > test.txt"
   ]
  },
  {
   "cell_type": "code",
   "execution_count": 8,
   "metadata": {
    "collapsed": false
   },
   "outputs": [
    {
     "data": {
      "text/plain": [
       "['83baae61804e65cc73a7201a7252750c76066a30']"
      ]
     },
     "execution_count": 8,
     "metadata": {},
     "output_type": "execute_result"
    }
   ],
   "source": [
    "ver1hash = !git hash-object -w test.txt\n",
    "ver1hash"
   ]
  },
  {
   "cell_type": "code",
   "execution_count": 9,
   "metadata": {
    "collapsed": false
   },
   "outputs": [
    {
     "data": {
      "text/plain": [
       "['1f7a7a472abf3dd9643fd615f6da379c4acb3e3a']"
      ]
     },
     "execution_count": 9,
     "metadata": {},
     "output_type": "execute_result"
    }
   ],
   "source": [
    "!echo 'version 2' > test.txt\n",
    "ver2hash = !git hash-object -w test.txt\n",
    "ver2hash"
   ]
  },
  {
   "cell_type": "code",
   "execution_count": 10,
   "metadata": {
    "collapsed": false
   },
   "outputs": [
    {
     "name": "stdout",
     "output_type": "stream",
     "text": [
      ".git/objects/1f/7a7a472abf3dd9643fd615f6da379c4acb3e3a\r\n",
      ".git/objects/83/baae61804e65cc73a7201a7252750c76066a30\r\n",
      ".git/objects/d6/70460b4b4aece5915caf5c68d12f560a9fe3e4\r\n"
     ]
    }
   ],
   "source": [
    "!find .git/objects -type f"
   ]
  },
  {
   "cell_type": "code",
   "execution_count": 11,
   "metadata": {
    "collapsed": false
   },
   "outputs": [
    {
     "name": "stdout",
     "output_type": "stream",
     "text": [
      "version 1\r\n"
     ]
    }
   ],
   "source": [
    "!git cat-file -p {ver1hash[0]} > test.txt\n",
    "!cat test.txt"
   ]
  },
  {
   "cell_type": "code",
   "execution_count": 12,
   "metadata": {
    "collapsed": false
   },
   "outputs": [
    {
     "name": "stdout",
     "output_type": "stream",
     "text": [
      "version 2\r\n"
     ]
    }
   ],
   "source": [
    "! git cat-file -p {ver2hash[0]} > test.txt\n",
    "! cat test.txt"
   ]
  },
  {
   "cell_type": "code",
   "execution_count": 13,
   "metadata": {
    "collapsed": false
   },
   "outputs": [
    {
     "name": "stdout",
     "output_type": "stream",
     "text": [
      "blob\r\n"
     ]
    }
   ],
   "source": [
    "! git cat-file -t {ver2hash[0]}"
   ]
  },
  {
   "cell_type": "code",
   "execution_count": 14,
   "metadata": {
    "collapsed": true
   },
   "outputs": [],
   "source": [
    "#what does update-index do....\n",
    "#to check more details from Pro GIT\n",
    "#You can fairly easily create your own tree.\n",
    "#Git normally creates a tree by taking the state of your\n",
    "#staging area or index and writing a series of tree objects\n",
    "#from it. So, to create a tree object, you first have \n",
    "#to set up an index by staging some files. To create an \n",
    "#index with a single entry – the first version of your \n",
    "#test.txt file – you can use the plumbing command\n",
    "#update-index. You use this command to artificially add\n",
    "#the earlier version of the test.txt file to a new \n",
    "#staging area. You must pass it the --add option \n",
    "#because the file doesn’t yet exist in your staging\n",
    "#area (you don’t even have a staging area set up yet) \n",
    "#and --cacheinfo because the file you’re adding isn’t \n",
    "#in your directory but is in your database. Then, you\n",
    "#specify the mode, SHA-1, and filename:\n",
    "\n",
    "! git update-index --add --cacheinfo \\\n",
    "100644,{ver1hash[0]},test.txt"
   ]
  },
  {
   "cell_type": "code",
   "execution_count": 15,
   "metadata": {
    "collapsed": false
   },
   "outputs": [
    {
     "data": {
      "text/plain": [
       "['d8329fc1cc938780ffdd9f94e0d364e0ea74f579']"
      ]
     },
     "execution_count": 15,
     "metadata": {},
     "output_type": "execute_result"
    }
   ],
   "source": [
    "tree1 = !git write-tree\n",
    "tree1"
   ]
  },
  {
   "cell_type": "code",
   "execution_count": 16,
   "metadata": {
    "collapsed": false
   },
   "outputs": [
    {
     "name": "stdout",
     "output_type": "stream",
     "text": [
      "100644 blob 83baae61804e65cc73a7201a7252750c76066a30\ttest.txt\r\n"
     ]
    }
   ],
   "source": [
    "! git cat-file -p {tree1[0]}"
   ]
  },
  {
   "cell_type": "code",
   "execution_count": 17,
   "metadata": {
    "collapsed": false
   },
   "outputs": [
    {
     "name": "stdout",
     "output_type": "stream",
     "text": [
      "tree\r\n"
     ]
    }
   ],
   "source": [
    "! git cat-file -t {tree1[0]}"
   ]
  },
  {
   "cell_type": "code",
   "execution_count": 18,
   "metadata": {
    "collapsed": true
   },
   "outputs": [],
   "source": [
    "#You’ll now create a new tree with the second version of test.txt and a new file as well:\n",
    "! echo 'new file' > new.txt\n",
    "! git update-index test.txt\n",
    "! git update-index --add new.txt"
   ]
  },
  {
   "cell_type": "code",
   "execution_count": 19,
   "metadata": {
    "collapsed": false
   },
   "outputs": [
    {
     "data": {
      "text/plain": [
       "['0155eb4229851634a0f03eb265b69f5a2d56f341']"
      ]
     },
     "execution_count": 19,
     "metadata": {},
     "output_type": "execute_result"
    }
   ],
   "source": [
    "tree2 = !git write-tree\n",
    "tree2"
   ]
  },
  {
   "cell_type": "code",
   "execution_count": 20,
   "metadata": {
    "collapsed": false
   },
   "outputs": [
    {
     "name": "stdout",
     "output_type": "stream",
     "text": [
      "100644 blob fa49b077972391ad58037050f2a75f74e3671e92\tnew.txt\r\n",
      "100644 blob 1f7a7a472abf3dd9643fd615f6da379c4acb3e3a\ttest.txt\r\n"
     ]
    }
   ],
   "source": [
    "! git cat-file -p {tree2[0]}"
   ]
  },
  {
   "cell_type": "code",
   "execution_count": 21,
   "metadata": {
    "collapsed": false
   },
   "outputs": [
    {
     "data": {
      "text/plain": [
       "['3c4e9cd789d88d8d89c1073707c3585e41b0e614']"
      ]
     },
     "execution_count": 21,
     "metadata": {},
     "output_type": "execute_result"
    }
   ],
   "source": [
    "! git read-tree --prefix=bak/ {tree1[0]}\n",
    "tree3 = ! git write-tree\n",
    "tree3"
   ]
  },
  {
   "cell_type": "code",
   "execution_count": 22,
   "metadata": {
    "collapsed": false
   },
   "outputs": [
    {
     "name": "stdout",
     "output_type": "stream",
     "text": [
      "040000 tree d8329fc1cc938780ffdd9f94e0d364e0ea74f579\tbak\r\n",
      "100644 blob fa49b077972391ad58037050f2a75f74e3671e92\tnew.txt\r\n",
      "100644 blob 1f7a7a472abf3dd9643fd615f6da379c4acb3e3a\ttest.txt\r\n"
     ]
    }
   ],
   "source": [
    "! git cat-file -p {tree3[0]}"
   ]
  },
  {
   "cell_type": "code",
   "execution_count": 23,
   "metadata": {
    "collapsed": false
   },
   "outputs": [
    {
     "data": {
      "text/plain": [
       "['db751eb44b7329ddf1a011988e45e848ef7b79fb']"
      ]
     },
     "execution_count": 23,
     "metadata": {},
     "output_type": "execute_result"
    }
   ],
   "source": [
    "commit1 = !git commit-tree {tree1[0]} -m 'first commit'\n",
    "commit1"
   ]
  },
  {
   "cell_type": "code",
   "execution_count": 24,
   "metadata": {
    "collapsed": false
   },
   "outputs": [
    {
     "name": "stdout",
     "output_type": "stream",
     "text": [
      "tree d8329fc1cc938780ffdd9f94e0d364e0ea74f579\r\n",
      "author ajinsusumu <ajinsusumu@gmail.com> 1478792257 +0800\r\n",
      "committer ajinsusumu <ajinsusumu@gmail.com> 1478792257 +0800\r\n",
      "\r\n",
      "first commit\r\n"
     ]
    }
   ],
   "source": [
    "!git cat-file -p {commit1[0]}"
   ]
  },
  {
   "cell_type": "code",
   "execution_count": 25,
   "metadata": {
    "collapsed": false
   },
   "outputs": [
    {
     "data": {
      "text/plain": [
       "['bc383cff56f996a680ae8a8d21588f529a668e98']"
      ]
     },
     "execution_count": 25,
     "metadata": {},
     "output_type": "execute_result"
    }
   ],
   "source": [
    "commit2 = !git commit-tree {tree2[0]} -m 'second commit' -p {commit1[0]}\n",
    "commit2"
   ]
  },
  {
   "cell_type": "code",
   "execution_count": 26,
   "metadata": {
    "collapsed": false
   },
   "outputs": [
    {
     "data": {
      "text/plain": [
       "['74689953b9999b37f864dbc52131a4e1b6d9c499']"
      ]
     },
     "execution_count": 26,
     "metadata": {},
     "output_type": "execute_result"
    }
   ],
   "source": [
    "commit3 = !git commit-tree {tree3[0]} -m 'third commit' -p {commit2[0]}\n",
    "commit3"
   ]
  },
  {
   "cell_type": "code",
   "execution_count": 27,
   "metadata": {
    "collapsed": false
   },
   "outputs": [
    {
     "name": "stdout",
     "output_type": "stream",
     "text": [
      "\u001b[33mcommit 74689953b9999b37f864dbc52131a4e1b6d9c499\u001b[m\r\n",
      "Author: ajinsusumu <ajinsusumu@gmail.com>\r\n",
      "Date:   Thu Nov 10 23:37:38 2016 +0800\r\n",
      "\r\n",
      "    third commit\r\n",
      "\r\n",
      " bak/test.txt | 1 \u001b[32m+\u001b[m\r\n",
      " 1 file changed, 1 insertion(+)\r\n",
      "\r\n",
      "\u001b[33mcommit bc383cff56f996a680ae8a8d21588f529a668e98\u001b[m\r\n",
      "Author: ajinsusumu <ajinsusumu@gmail.com>\r\n",
      "Date:   Thu Nov 10 23:37:38 2016 +0800\r\n",
      "\r\n",
      "    second commit\r\n",
      "\r\n",
      " new.txt  | 1 \u001b[32m+\u001b[m\r\n",
      " test.txt | 2 \u001b[32m+\u001b[m\u001b[31m-\u001b[m\r\n",
      " 2 files changed, 2 insertions(+), 1 deletion(-)\r\n",
      "\r\n",
      "\u001b[33mcommit db751eb44b7329ddf1a011988e45e848ef7b79fb\u001b[m\r\n",
      "Author: ajinsusumu <ajinsusumu@gmail.com>\r\n",
      "Date:   Thu Nov 10 23:37:37 2016 +0800\r\n",
      "\r\n",
      "    first commit\r\n",
      "\r\n",
      " test.txt | 1 \u001b[32m+\u001b[m\r\n",
      " 1 file changed, 1 insertion(+)\r\n"
     ]
    }
   ],
   "source": [
    "!git log --stat {commit3[0]}"
   ]
  },
  {
   "cell_type": "code",
   "execution_count": 28,
   "metadata": {
    "collapsed": false
   },
   "outputs": [
    {
     "name": "stdout",
     "output_type": "stream",
     "text": [
      ".git/objects/01/55eb4229851634a0f03eb265b69f5a2d56f341\r\n",
      ".git/objects/1f/7a7a472abf3dd9643fd615f6da379c4acb3e3a\r\n",
      ".git/objects/3c/4e9cd789d88d8d89c1073707c3585e41b0e614\r\n",
      ".git/objects/74/689953b9999b37f864dbc52131a4e1b6d9c499\r\n",
      ".git/objects/83/baae61804e65cc73a7201a7252750c76066a30\r\n",
      ".git/objects/bc/383cff56f996a680ae8a8d21588f529a668e98\r\n",
      ".git/objects/d6/70460b4b4aece5915caf5c68d12f560a9fe3e4\r\n",
      ".git/objects/d8/329fc1cc938780ffdd9f94e0d364e0ea74f579\r\n",
      ".git/objects/db/751eb44b7329ddf1a011988e45e848ef7b79fb\r\n",
      ".git/objects/fa/49b077972391ad58037050f2a75f74e3671e92\r\n"
     ]
    }
   ],
   "source": [
    "!find .git/objects -type f"
   ]
  },
  {
   "cell_type": "markdown",
   "metadata": {},
   "source": [
    "## Git References"
   ]
  },
  {
   "cell_type": "code",
   "execution_count": 29,
   "metadata": {
    "collapsed": false
   },
   "outputs": [
    {
     "name": "stdout",
     "output_type": "stream",
     "text": [
      ".git/refs\r\n",
      ".git/refs/heads\r\n",
      ".git/refs/tags\r\n"
     ]
    }
   ],
   "source": [
    "!find .git/refs"
   ]
  },
  {
   "cell_type": "code",
   "execution_count": 30,
   "metadata": {
    "collapsed": true
   },
   "outputs": [],
   "source": [
    "!find .git/refs -type f"
   ]
  },
  {
   "cell_type": "code",
   "execution_count": 31,
   "metadata": {
    "collapsed": false
   },
   "outputs": [],
   "source": [
    "master=\".git/refs/heads/master\"\n",
    "with open(master, \"w\") as outf: outf.write(commit3[0])"
   ]
  },
  {
   "cell_type": "code",
   "execution_count": 32,
   "metadata": {
    "collapsed": false
   },
   "outputs": [
    {
     "name": "stdout",
     "output_type": "stream",
     "text": [
      "\u001b[33m74689953b9999b37f864dbc52131a4e1b6d9c499\u001b[m third commit\r\n",
      "\u001b[33mbc383cff56f996a680ae8a8d21588f529a668e98\u001b[m second commit\r\n",
      "\u001b[33mdb751eb44b7329ddf1a011988e45e848ef7b79fb\u001b[m first commit\r\n"
     ]
    }
   ],
   "source": [
    "!git log --pretty=oneline master"
   ]
  },
  {
   "cell_type": "code",
   "execution_count": 33,
   "metadata": {
    "collapsed": false
   },
   "outputs": [],
   "source": [
    "!git update-ref refs/heads/test {commit2[0]}"
   ]
  },
  {
   "cell_type": "code",
   "execution_count": 34,
   "metadata": {
    "collapsed": false
   },
   "outputs": [
    {
     "name": "stdout",
     "output_type": "stream",
     "text": [
      "\u001b[33mbc383cff56f996a680ae8a8d21588f529a668e98\u001b[m second commit\r\n",
      "\u001b[33mdb751eb44b7329ddf1a011988e45e848ef7b79fb\u001b[m first commit\r\n"
     ]
    }
   ],
   "source": [
    "!git log --pretty=oneline test"
   ]
  },
  {
   "cell_type": "markdown",
   "metadata": {},
   "source": [
    "### The HEAD"
   ]
  },
  {
   "cell_type": "code",
   "execution_count": 35,
   "metadata": {
    "collapsed": false
   },
   "outputs": [
    {
     "name": "stdout",
     "output_type": "stream",
     "text": [
      "ref: refs/heads/master\r\n"
     ]
    }
   ],
   "source": [
    "!cat .git/HEAD"
   ]
  },
  {
   "cell_type": "code",
   "execution_count": 36,
   "metadata": {
    "collapsed": false
   },
   "outputs": [
    {
     "name": "stdout",
     "output_type": "stream",
     "text": [
      "Switched to branch 'test'\r\n"
     ]
    }
   ],
   "source": [
    "!git checkout test"
   ]
  },
  {
   "cell_type": "code",
   "execution_count": 37,
   "metadata": {
    "collapsed": false
   },
   "outputs": [
    {
     "name": "stdout",
     "output_type": "stream",
     "text": [
      "ref: refs/heads/test\r\n"
     ]
    }
   ],
   "source": [
    "!cat .git/HEAD"
   ]
  },
  {
   "cell_type": "code",
   "execution_count": 38,
   "metadata": {
    "collapsed": false
   },
   "outputs": [
    {
     "name": "stdout",
     "output_type": "stream",
     "text": [
      "Switched to branch 'master'\r\n"
     ]
    }
   ],
   "source": [
    "!git checkout master"
   ]
  },
  {
   "cell_type": "code",
   "execution_count": 39,
   "metadata": {
    "collapsed": false
   },
   "outputs": [
    {
     "name": "stdout",
     "output_type": "stream",
     "text": [
      "refs/heads/master\r\n"
     ]
    }
   ],
   "source": [
    "!git symbolic-ref HEAD"
   ]
  },
  {
   "cell_type": "code",
   "execution_count": 40,
   "metadata": {
    "collapsed": false
   },
   "outputs": [
    {
     "name": "stdout",
     "output_type": "stream",
     "text": [
      "ref: refs/heads/test\r\n"
     ]
    }
   ],
   "source": [
    "!git symbolic-ref HEAD refs/heads/test\n",
    "!cat .git/HEAD"
   ]
  },
  {
   "cell_type": "markdown",
   "metadata": {},
   "source": [
    "### Tags"
   ]
  },
  {
   "cell_type": "code",
   "execution_count": 41,
   "metadata": {
    "collapsed": false
   },
   "outputs": [],
   "source": [
    "!git update-ref refs/tags/v1.0 {commit2[0]}"
   ]
  },
  {
   "cell_type": "code",
   "execution_count": 42,
   "metadata": {
    "collapsed": false
   },
   "outputs": [],
   "source": [
    "!git tag -a v1.1 -m 'test tag' {commit3[0]}"
   ]
  },
  {
   "cell_type": "code",
   "execution_count": 43,
   "metadata": {
    "collapsed": false
   },
   "outputs": [
    {
     "data": {
      "text/plain": [
       "['b9ac6e21d918b7b67170a741023fbcf9227334e4']"
      ]
     },
     "execution_count": 43,
     "metadata": {},
     "output_type": "execute_result"
    }
   ],
   "source": [
    "!!cat .git/refs/tags/v1.1"
   ]
  },
  {
   "cell_type": "code",
   "execution_count": 44,
   "metadata": {
    "collapsed": false
   },
   "outputs": [
    {
     "name": "stdout",
     "output_type": "stream",
     "text": [
      "object 74689953b9999b37f864dbc52131a4e1b6d9c499\r\n",
      "type commit\r\n",
      "tag v1.1\r\n",
      "tagger ajinsusumu <ajinsusumu@gmail.com> 1478792259 +0800\r\n",
      "\r\n",
      "test tag\r\n"
     ]
    }
   ],
   "source": [
    "!git cat-file -p {_[0]}"
   ]
  },
  {
   "cell_type": "code",
   "execution_count": 45,
   "metadata": {
    "collapsed": false
   },
   "outputs": [
    {
     "name": "stdout",
     "output_type": "stream",
     "text": [
      ".git/objects/01/55eb4229851634a0f03eb265b69f5a2d56f341\r\n",
      ".git/objects/1f/7a7a472abf3dd9643fd615f6da379c4acb3e3a\r\n",
      ".git/objects/3c/4e9cd789d88d8d89c1073707c3585e41b0e614\r\n",
      ".git/objects/74/689953b9999b37f864dbc52131a4e1b6d9c499\r\n",
      ".git/objects/83/baae61804e65cc73a7201a7252750c76066a30\r\n",
      ".git/objects/b9/ac6e21d918b7b67170a741023fbcf9227334e4\r\n",
      ".git/objects/bc/383cff56f996a680ae8a8d21588f529a668e98\r\n",
      ".git/objects/d6/70460b4b4aece5915caf5c68d12f560a9fe3e4\r\n",
      ".git/objects/d8/329fc1cc938780ffdd9f94e0d364e0ea74f579\r\n",
      ".git/objects/db/751eb44b7329ddf1a011988e45e848ef7b79fb\r\n",
      ".git/objects/fa/49b077972391ad58037050f2a75f74e3671e92\r\n"
     ]
    }
   ],
   "source": [
    "!find .git/objects -type f"
   ]
  },
  {
   "cell_type": "code",
   "execution_count": 46,
   "metadata": {
    "collapsed": false
   },
   "outputs": [
    {
     "name": "stdout",
     "output_type": "stream",
     "text": [
      "  % Total    % Received % Xferd  Average Speed   Time    Time     Time  Current\n",
      "                                 Dload  Upload   Total   Spent    Left  Speed\n",
      "100 22044  100 22044    0     0  30981      0 --:--:-- --:--:-- --:--:-- 30960\n"
     ]
    }
   ],
   "source": [
    "!curl https://raw.githubusercontent.com/mojombo/grit/master/lib/grit/repo.rb > repo.rb"
   ]
  },
  {
   "cell_type": "code",
   "execution_count": 47,
   "metadata": {
    "collapsed": false
   },
   "outputs": [
    {
     "name": "stdout",
     "output_type": "stream",
     "text": [
      "Switched to branch 'master'\r\n"
     ]
    }
   ],
   "source": [
    "!git checkout master"
   ]
  },
  {
   "cell_type": "code",
   "execution_count": 48,
   "metadata": {
    "collapsed": true
   },
   "outputs": [],
   "source": [
    "!git add repo.rb"
   ]
  },
  {
   "cell_type": "code",
   "execution_count": 49,
   "metadata": {
    "collapsed": false
   },
   "outputs": [
    {
     "name": "stdout",
     "output_type": "stream",
     "text": [
      "[master efc8f0d] added repo.rb\r\n",
      " 1 file changed, 709 insertions(+)\r\n",
      " create mode 100644 repo.rb\r\n"
     ]
    }
   ],
   "source": [
    "!git commit -m 'added repo.rb'"
   ]
  },
  {
   "cell_type": "code",
   "execution_count": 50,
   "metadata": {
    "collapsed": false
   },
   "outputs": [
    {
     "data": {
      "text/plain": [
       "['100644 blob 033b4468fa6b2a9547a70d88d1bbe8bf3f9ed0d5\\trepo.rb']"
      ]
     },
     "execution_count": 50,
     "metadata": {},
     "output_type": "execute_result"
    }
   ],
   "source": [
    "!!git cat-file -p master^{tree} | grep repo.rb"
   ]
  },
  {
   "cell_type": "code",
   "execution_count": 51,
   "metadata": {
    "collapsed": false
   },
   "outputs": [
    {
     "name": "stdout",
     "output_type": "stream",
     "text": [
      "22044\r\n"
     ]
    }
   ],
   "source": [
    "!git cat-file -s {_[0].split()[2]}"
   ]
  },
  {
   "cell_type": "code",
   "execution_count": 52,
   "metadata": {
    "collapsed": false
   },
   "outputs": [
    {
     "name": "stdout",
     "output_type": "stream",
     "text": [
      "[master 37dfa1c] modified repo a bit\r\n",
      " 1 file changed, 1 insertion(+)\r\n"
     ]
    }
   ],
   "source": [
    "!echo '# testing' >> repo.rb\n",
    "!git commit -am 'modified repo a bit'"
   ]
  },
  {
   "cell_type": "code",
   "execution_count": 53,
   "metadata": {
    "collapsed": false
   },
   "outputs": [
    {
     "data": {
      "text/plain": [
       "['100644 blob b042a60ef7dff760008df33cee372b945b6e884e\\trepo.rb']"
      ]
     },
     "execution_count": 53,
     "metadata": {},
     "output_type": "execute_result"
    }
   ],
   "source": [
    "!!git cat-file -p master^{tree} | grep repo.rb"
   ]
  },
  {
   "cell_type": "code",
   "execution_count": 54,
   "metadata": {
    "collapsed": false
   },
   "outputs": [
    {
     "name": "stdout",
     "output_type": "stream",
     "text": [
      "22054\r\n"
     ]
    }
   ],
   "source": [
    "!git cat-file -s {_[0].split()[2]}"
   ]
  },
  {
   "cell_type": "code",
   "execution_count": 55,
   "metadata": {
    "collapsed": false
   },
   "outputs": [
    {
     "name": "stdout",
     "output_type": "stream",
     "text": [
      "Counting objects: 16, done.\r\n",
      "Delta compression using up to 4 threads.\r\n",
      "Compressing objects:   8% (1/12)   \r",
      "Compressing objects:  16% (2/12)   \r",
      "Compressing objects:  25% (3/12)   \r",
      "Compressing objects:  33% (4/12)   \r",
      "Compressing objects:  41% (5/12)   \r",
      "Compressing objects:  50% (6/12)   \r",
      "Compressing objects:  58% (7/12)   \r",
      "Compressing objects:  66% (8/12)   \r",
      "Compressing objects:  75% (9/12)   \r",
      "Compressing objects:  83% (10/12)   \r",
      "Compressing objects:  91% (11/12)   \r",
      "Compressing objects: 100% (12/12)   \r",
      "Compressing objects: 100% (12/12), done.\r\n",
      "Writing objects:   6% (1/16)   \r",
      "Writing objects:  12% (2/16)   \r",
      "Writing objects:  18% (3/16)   \r",
      "Writing objects:  25% (4/16)   \r",
      "Writing objects:  31% (5/16)   \r",
      "Writing objects:  37% (6/16)   \r",
      "Writing objects:  43% (7/16)   \r",
      "Writing objects:  50% (8/16)   \r",
      "Writing objects:  56% (9/16)   \r",
      "Writing objects:  62% (10/16)   \r",
      "Writing objects:  68% (11/16)   \r",
      "Writing objects:  75% (12/16)   \r",
      "Writing objects:  81% (13/16)   \r",
      "Writing objects:  87% (14/16)   \r",
      "Writing objects:  93% (15/16)   \r",
      "Writing objects: 100% (16/16)   \r",
      "Writing objects: 100% (16/16), done.\r\n",
      "Total 16 (delta 2), reused 0 (delta 0)\r\n"
     ]
    }
   ],
   "source": [
    "!git gc"
   ]
  },
  {
   "cell_type": "code",
   "execution_count": 56,
   "metadata": {
    "collapsed": false
   },
   "outputs": [
    {
     "name": "stdout",
     "output_type": "stream",
     "text": [
      "37dfa1c7bac456bae09ca6a919c5f982de52ca93 commit 234 155 12\r\n",
      "efc8f0dc6307b7331c95bc688c827bb69550e8fe commit 228 150 167\r\n",
      "bc383cff56f996a680ae8a8d21588f529a668e98 commit 228 149 317\r\n",
      "74689953b9999b37f864dbc52131a4e1b6d9c499 commit 227 147 466\r\n",
      "b9ac6e21d918b7b67170a741023fbcf9227334e4 tag    137 123 613\r\n",
      "db751eb44b7329ddf1a011988e45e848ef7b79fb commit 179 119 736\r\n",
      "fe879577cb8cffcdf25441725141e310dd7d239b tree   136 136 855\r\n",
      "d8329fc1cc938780ffdd9f94e0d364e0ea74f579 tree   36 46 991\r\n",
      "deef2e1b793907545e50a2ea2ddb5ba6c58c4506 tree   136 136 1037\r\n",
      "0155eb4229851634a0f03eb265b69f5a2d56f341 tree   71 76 1173\r\n",
      "3c4e9cd789d88d8d89c1073707c3585e41b0e614 tree   8 19 1249 1 deef2e1b793907545e50a2ea2ddb5ba6c58c4506\r\n",
      "83baae61804e65cc73a7201a7252750c76066a30 blob   10 19 1268\r\n",
      "fa49b077972391ad58037050f2a75f74e3671e92 blob   9 18 1287\r\n",
      "b042a60ef7dff760008df33cee372b945b6e884e blob   22054 5799 1305\r\n",
      "033b4468fa6b2a9547a70d88d1bbe8bf3f9ed0d5 blob   9 20 7104 1 b042a60ef7dff760008df33cee372b945b6e884e\r\n",
      "1f7a7a472abf3dd9643fd615f6da379c4acb3e3a blob   10 19 7124\r\n",
      "non delta: 14 objects\r\n",
      "chain length = 1: 2 objects\r\n",
      ".git/objects/pack/pack-f8566beb1c6220560ad4521fa998eaacdff4143e.pack: ok\r\n"
     ]
    }
   ],
   "source": [
    "!git verify-pack -v .git/objects/pack/*.pack"
   ]
  },
  {
   "cell_type": "code",
   "execution_count": 57,
   "metadata": {
    "collapsed": true
   },
   "outputs": [],
   "source": [
    "#os.chdir('..')"
   ]
  },
  {
   "cell_type": "code",
   "execution_count": 58,
   "metadata": {
    "collapsed": false
   },
   "outputs": [],
   "source": [
    "#os.environ['http_proxy']='http://127.0.0.1:3128'\n",
    "#os.environ['https_proxy']='https://127.0.0.1:3128'"
   ]
  },
  {
   "cell_type": "code",
   "execution_count": 59,
   "metadata": {
    "collapsed": false
   },
   "outputs": [],
   "source": [
    "#!git clone https://github.com/schacon/simplegit.git"
   ]
  },
  {
   "cell_type": "code",
   "execution_count": 60,
   "metadata": {
    "collapsed": true
   },
   "outputs": [],
   "source": [
    "#os.chdir('simplegit')"
   ]
  },
  {
   "cell_type": "code",
   "execution_count": 61,
   "metadata": {
    "collapsed": false
   },
   "outputs": [],
   "source": [
    "#!git cat-file -p master^{tree}"
   ]
  },
  {
   "cell_type": "code",
   "execution_count": 62,
   "metadata": {
    "collapsed": false
   },
   "outputs": [],
   "source": [
    "#!git cat-file -p 99f1a6d12cb4b6f19c8655fca46c3ecf317074e0"
   ]
  }
 ],
 "metadata": {
  "kernelspec": {
   "display_name": "Python 3",
   "language": "python",
   "name": "python3"
  },
  "language_info": {
   "codemirror_mode": {
    "name": "ipython",
    "version": 3
   },
   "file_extension": ".py",
   "mimetype": "text/x-python",
   "name": "python",
   "nbconvert_exporter": "python",
   "pygments_lexer": "ipython3",
   "version": "3.5.2"
  },
  "widgets": {
   "state": {},
   "version": "1.1.1"
  }
 },
 "nbformat": 4,
 "nbformat_minor": 0
}
